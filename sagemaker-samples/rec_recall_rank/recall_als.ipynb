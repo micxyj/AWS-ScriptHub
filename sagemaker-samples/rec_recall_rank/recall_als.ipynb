{
 "cells": [
  {
   "cell_type": "code",
   "execution_count": 1,
   "source": [
    "# 用sparkml的als进行训练\n",
    "from pyspark.ml.evaluation import RegressionEvaluator\n",
    "from pyspark.ml.recommendation import ALS\n",
    "from pyspark.sql import Row\n",
    "from pyspark.context import SparkContext\n",
    "from pyspark.sql.session import SparkSession\n",
    "from pyspark.sql.types import *\n",
    "\n",
    "spark = SparkSession(sc)\n",
    "spark"
   ],
   "outputs": [
    {
     "output_type": "stream",
     "name": "stdout",
     "text": [
      "Starting Spark application\n"
     ]
    },
    {
     "output_type": "display_data",
     "data": {
      "text/plain": [
       "<IPython.core.display.HTML object>"
      ],
      "text/html": [
       "<table>\n",
       "<tr><th>ID</th><th>YARN Application ID</th><th>Kind</th><th>State</th><th>Spark UI</th><th>Driver log</th><th>Current session?</th></tr><tr><td>1</td><td>application_1603600007911_0006</td><td>pyspark</td><td>idle</td><td><a target=\"_blank\" href=\"http://ip-172-31-0-209.cn-northwest-1.compute.internal:20888/proxy/application_1603600007911_0006/\">Link</a></td><td><a target=\"_blank\" href=\"http://ip-172-31-12-215.cn-northwest-1.compute.internal:8042/node/containerlogs/container_1603600007911_0006_01_000001/livy\">Link</a></td><td>✔</td></tr></table>"
      ]
     },
     "metadata": {}
    },
    {
     "output_type": "display_data",
     "data": {
      "text/plain": [
       "FloatProgress(value=0.0, bar_style='info', description='Progress:', layout=Layout(height='25px', width='50%'),…"
      ],
      "application/vnd.jupyter.widget-view+json": {
       "model_id": "26e5e801668d4aa78b8838c13d4b940f",
       "version_major": 2,
       "version_minor": 0
      }
     },
     "metadata": {}
    },
    {
     "output_type": "stream",
     "name": "stdout",
     "text": [
      "SparkSession available as 'spark'.\n"
     ]
    },
    {
     "output_type": "display_data",
     "data": {
      "text/plain": [
       "FloatProgress(value=0.0, bar_style='info', description='Progress:', layout=Layout(height='25px', width='50%'),…"
      ],
      "application/vnd.jupyter.widget-view+json": {
       "model_id": "0f2e708215c84db58e71c60266815543",
       "version_major": 2,
       "version_minor": 0
      }
     },
     "metadata": {}
    },
    {
     "output_type": "stream",
     "name": "stdout",
     "text": [
      "<pyspark.sql.session.SparkSession object at 0x7fde2c1a2b50>"
     ]
    }
   ],
   "metadata": {}
  },
  {
   "cell_type": "code",
   "execution_count": 4,
   "source": [
    "# 读取pandas的dataframe\n",
    "als_data = spark.read.csv(\"./sort_als_data.csv\", header=True)\n",
    "als_data.show()"
   ],
   "outputs": [
    {
     "output_type": "display_data",
     "data": {
      "text/plain": [
       "FloatProgress(value=0.0, bar_style='info', description='Progress:', layout=Layout(height='25px', width='50%'),…"
      ],
      "application/vnd.jupyter.widget-view+json": {
       "model_id": "cb0d64e7615d482ca5e00645a2ea80ae",
       "version_major": 2,
       "version_minor": 0
      }
     },
     "metadata": {}
    },
    {
     "output_type": "stream",
     "name": "stdout",
     "text": [
      "+-------------+-----------+----------+\n",
      "|als_anchor_id|als_item_id|if_choosed|\n",
      "+-------------+-----------+----------+\n",
      "|            0|          0|         1|\n",
      "|            0|     306844|         1|\n",
      "|            0|     306845|         1|\n",
      "|            0|     306846|         1|\n",
      "|            0|     306847|         1|\n",
      "|            0|     306848|         1|\n",
      "|            0|     306849|         1|\n",
      "|            0|       3034|         1|\n",
      "|            0|     306850|         1|\n",
      "|            0|     306851|         1|\n",
      "|            0|     306852|         1|\n",
      "|            0|     306853|         1|\n",
      "|            0|     306854|         1|\n",
      "|            0|     306855|         1|\n",
      "|            0|     306856|         1|\n",
      "|            0|     306857|         1|\n",
      "|            0|     306858|         1|\n",
      "|            0|     306859|         1|\n",
      "|            0|     306860|         1|\n",
      "|            0|     306861|         1|\n",
      "+-------------+-----------+----------+\n",
      "only showing top 20 rows"
     ]
    }
   ],
   "metadata": {}
  },
  {
   "cell_type": "code",
   "execution_count": 5,
   "source": [
    "# 转化dataframe中的数值类型\n",
    "als_data_num = als_data.withColumn(\"als_anchor_id\", als_data[\"als_anchor_id\"].cast(IntegerType()))\n",
    "als_data_num = als_data_num.withColumn(\"als_item_id\", als_data[\"als_item_id\"].cast(IntegerType()))\n",
    "als_data_num = als_data_num.withColumn(\"if_choosed\", als_data[\"if_choosed\"].cast(IntegerType()))"
   ],
   "outputs": [
    {
     "output_type": "display_data",
     "data": {
      "text/plain": [
       "FloatProgress(value=0.0, bar_style='info', description='Progress:', layout=Layout(height='25px', width='50%'),…"
      ],
      "application/vnd.jupyter.widget-view+json": {
       "model_id": "afedde8c2f14498c89b3a376c70393c7",
       "version_major": 2,
       "version_minor": 0
      }
     },
     "metadata": {}
    }
   ],
   "metadata": {}
  },
  {
   "cell_type": "code",
   "execution_count": 6,
   "source": [
    "# 切分数据集\n",
    "(train, test) = als_data_num.randomSplit([0.8, 0.2])"
   ],
   "outputs": [
    {
     "output_type": "display_data",
     "data": {
      "text/plain": [
       "FloatProgress(value=0.0, bar_style='info', description='Progress:', layout=Layout(height='25px', width='50%'),…"
      ],
      "application/vnd.jupyter.widget-view+json": {
       "model_id": "d884240d0c2d4258a307d29f09ff281a",
       "version_major": 2,
       "version_minor": 0
      }
     },
     "metadata": {}
    }
   ],
   "metadata": {}
  },
  {
   "cell_type": "code",
   "execution_count": 7,
   "source": [
    "# 确认数据类型\n",
    "train.dtypes"
   ],
   "outputs": [
    {
     "output_type": "display_data",
     "data": {
      "text/plain": [
       "FloatProgress(value=0.0, bar_style='info', description='Progress:', layout=Layout(height='25px', width='50%'),…"
      ],
      "application/vnd.jupyter.widget-view+json": {
       "model_id": "eb86c5e1e7804f96a9a3376310aaefc0",
       "version_major": 2,
       "version_minor": 0
      }
     },
     "metadata": {}
    },
    {
     "output_type": "stream",
     "name": "stdout",
     "text": [
      "[('als_anchor_id', 'int'), ('als_item_id', 'int'), ('if_choosed', 'int')]"
     ]
    }
   ],
   "metadata": {}
  },
  {
   "cell_type": "code",
   "execution_count": 8,
   "source": [
    "# 构造als，设定基本参数\n",
    "als = ALS(maxIter=5, regParam=0.01, userCol=\"als_anchor_id\", itemCol=\"als_item_id\", ratingCol=\"if_choosed\",\n",
    "          coldStartStrategy=\"drop\")"
   ],
   "outputs": [
    {
     "output_type": "display_data",
     "data": {
      "text/plain": [
       "FloatProgress(value=0.0, bar_style='info', description='Progress:', layout=Layout(height='25px', width='50%'),…"
      ],
      "application/vnd.jupyter.widget-view+json": {
       "model_id": "1634d0ffa1174365a1e52fd3e18b13f1",
       "version_major": 2,
       "version_minor": 0
      }
     },
     "metadata": {}
    }
   ],
   "metadata": {}
  },
  {
   "cell_type": "markdown",
   "source": [
    "- 训练过程"
   ],
   "metadata": {}
  },
  {
   "cell_type": "code",
   "execution_count": 9,
   "source": [
    "# 模型训练\n",
    "als_model = als.fit(train)"
   ],
   "outputs": [
    {
     "output_type": "display_data",
     "data": {
      "text/plain": [
       "FloatProgress(value=0.0, bar_style='info', description='Progress:', layout=Layout(height='25px', width='50%'),…"
      ],
      "application/vnd.jupyter.widget-view+json": {
       "model_id": "a2306ad18d964b6a905aa4a117ffdec6",
       "version_major": 2,
       "version_minor": 0
      }
     },
     "metadata": {}
    }
   ],
   "metadata": {}
  },
  {
   "cell_type": "markdown",
   "source": [
    "- 推理过程"
   ],
   "metadata": {}
  },
  {
   "cell_type": "code",
   "execution_count": 10,
   "source": [
    "# 推理测试集\n",
    "predictions = als_model.transform(test)\n",
    "predictions.show()"
   ],
   "outputs": [
    {
     "output_type": "display_data",
     "data": {
      "text/plain": [
       "FloatProgress(value=0.0, bar_style='info', description='Progress:', layout=Layout(height='25px', width='50%'),…"
      ],
      "application/vnd.jupyter.widget-view+json": {
       "model_id": "956a220ba3d64bb0b14522166381f426",
       "version_major": 2,
       "version_minor": 0
      }
     },
     "metadata": {}
    },
    {
     "output_type": "stream",
     "name": "stdout",
     "text": [
      "+-------------+-----------+----------+-------------+\n",
      "|als_anchor_id|als_item_id|if_choosed|   prediction|\n",
      "+-------------+-----------+----------+-------------+\n",
      "|         1005|         12|         0|  0.002290467|\n",
      "|          633|         12|         0| 0.0026946266|\n",
      "|          876|         12|         0| 7.7563425E-5|\n",
      "|          874|         12|         0|-0.0023558827|\n",
      "|          406|         12|         0|-0.0012933537|\n",
      "|           76|         12|         0| 0.0025947276|\n",
      "|          811|         12|         0| 0.0020250394|\n",
      "|           12|         12|         0|  0.001838097|\n",
      "|          984|         12|         0|  0.002460972|\n",
      "|          727|         12|         0|  9.310976E-4|\n",
      "|         1061|         12|         0| 4.4720626E-4|\n",
      "|          444|         12|         0|-0.0016402653|\n",
      "|          774|         12|         0|-0.0019777166|\n",
      "|          912|         12|         0| 4.1634834E-5|\n",
      "|          992|         12|         0| 0.0012556601|\n",
      "|          442|         12|         0|  7.378376E-4|\n",
      "|          328|         12|         0| -3.263878E-4|\n",
      "|          295|         12|         0|-4.1364715E-4|\n",
      "|          881|         12|         0|-0.0020906015|\n",
      "|          969|         12|         0|-2.3517734E-4|\n",
      "+-------------+-----------+----------+-------------+\n",
      "only showing top 20 rows"
     ]
    }
   ],
   "metadata": {}
  },
  {
   "cell_type": "code",
   "execution_count": 11,
   "source": [
    "# 评估结果\n",
    "evaluator = RegressionEvaluator(metricName=\"rmse\", labelCol=\"if_choosed\",\n",
    "                                predictionCol=\"prediction\")\n",
    "rmse = evaluator.evaluate(predictions)\n",
    "print(\"Root-mean-square error = \" + str(rmse))"
   ],
   "outputs": [
    {
     "output_type": "display_data",
     "data": {
      "text/plain": [
       "FloatProgress(value=0.0, bar_style='info', description='Progress:', layout=Layout(height='25px', width='50%'),…"
      ],
      "application/vnd.jupyter.widget-view+json": {
       "model_id": "e78002895355480db452c8e0fc7fc357",
       "version_major": 2,
       "version_minor": 0
      }
     },
     "metadata": {}
    },
    {
     "output_type": "stream",
     "name": "stdout",
     "text": [
      "Root-mean-square error = 0.4848365898428372"
     ]
    }
   ],
   "metadata": {}
  },
  {
   "cell_type": "code",
   "execution_count": 12,
   "source": [
    "# 召回结果\n",
    "anchorRecs = als_model.recommendForAllUsers(100)"
   ],
   "outputs": [
    {
     "output_type": "display_data",
     "data": {
      "text/plain": [
       "FloatProgress(value=0.0, bar_style='info', description='Progress:', layout=Layout(height='25px', width='50%'),…"
      ],
      "application/vnd.jupyter.widget-view+json": {
       "model_id": "beb69b4b85d043edb860d74967dd18e5",
       "version_major": 2,
       "version_minor": 0
      }
     },
     "metadata": {}
    }
   ],
   "metadata": {}
  },
  {
   "cell_type": "code",
   "execution_count": 13,
   "source": [
    "anchorRecs.collect()[:5]"
   ],
   "outputs": [
    {
     "output_type": "display_data",
     "data": {
      "text/plain": [
       "FloatProgress(value=0.0, bar_style='info', description='Progress:', layout=Layout(height='25px', width='50%'),…"
      ],
      "application/vnd.jupyter.widget-view+json": {
       "model_id": "b633459d41524b87b7008224e6270910",
       "version_major": 2,
       "version_minor": 0
      }
     },
     "metadata": {}
    },
    {
     "output_type": "stream",
     "name": "stdout",
     "text": [
      "[Row(als_anchor_id=540, recommendations=[Row(als_item_id=2401, rating=3.116373062133789), Row(als_item_id=59210, rating=2.567249059677124), Row(als_item_id=84123, rating=2.449601650238037), Row(als_item_id=92272, rating=2.3006582260131836), Row(als_item_id=68190, rating=2.2953109741210938), Row(als_item_id=92544, rating=2.2640693187713623), Row(als_item_id=10381, rating=2.2574245929718018), Row(als_item_id=166506, rating=2.230597972869873), Row(als_item_id=59156, rating=2.2146072387695312), Row(als_item_id=150684, rating=2.187387228012085), Row(als_item_id=113709, rating=2.1488614082336426), Row(als_item_id=85566, rating=2.13942289352417), Row(als_item_id=175524, rating=2.138134002685547), Row(als_item_id=40458, rating=2.122217893600464), Row(als_item_id=7360, rating=2.102689027786255), Row(als_item_id=2344, rating=2.0953972339630127), Row(als_item_id=81818, rating=2.0919759273529053), Row(als_item_id=55750, rating=2.088259696960449), Row(als_item_id=66827, rating=2.085789203643799), Row(als_item_id=6455, rating=2.080720901489258), Row(als_item_id=21471, rating=2.0671486854553223), Row(als_item_id=141004, rating=2.0496933460235596), Row(als_item_id=29364, rating=2.042353630065918), Row(als_item_id=89979, rating=2.0411736965179443), Row(als_item_id=3884, rating=2.040861129760742), Row(als_item_id=34283, rating=2.0158915519714355), Row(als_item_id=14020, rating=2.0114665031433105), Row(als_item_id=95689, rating=2.008394956588745), Row(als_item_id=24728, rating=2.003333568572998), Row(als_item_id=2538, rating=1.9966773986816406), Row(als_item_id=107175, rating=1.992868423461914), Row(als_item_id=19921, rating=1.9722555875778198), Row(als_item_id=23877, rating=1.9539796113967896), Row(als_item_id=47328, rating=1.9507253170013428), Row(als_item_id=25405, rating=1.9408690929412842), Row(als_item_id=18266, rating=1.932537317276001), Row(als_item_id=40743, rating=1.9218249320983887), Row(als_item_id=155674, rating=1.9164682626724243), Row(als_item_id=12386, rating=1.9160363674163818), Row(als_item_id=2331, rating=1.9158096313476562), Row(als_item_id=14050, rating=1.9145259857177734), Row(als_item_id=83949, rating=1.9070720672607422), Row(als_item_id=116080, rating=1.9004950523376465), Row(als_item_id=168396, rating=1.8933080434799194), Row(als_item_id=7244, rating=1.8726582527160645), Row(als_item_id=182236, rating=1.8500144481658936), Row(als_item_id=18847, rating=1.8486014604568481), Row(als_item_id=69101, rating=1.8424830436706543), Row(als_item_id=45559, rating=1.838852047920227), Row(als_item_id=5067, rating=1.8368566036224365), Row(als_item_id=37417, rating=1.83211088180542), Row(als_item_id=6544, rating=1.82880437374115), Row(als_item_id=30473, rating=1.8097975254058838), Row(als_item_id=16270, rating=1.8079984188079834), Row(als_item_id=22409, rating=1.8052045106887817), Row(als_item_id=92203, rating=1.8041213750839233), Row(als_item_id=71225, rating=1.7965977191925049), Row(als_item_id=112550, rating=1.7852174043655396), Row(als_item_id=90238, rating=1.784284234046936), Row(als_item_id=68674, rating=1.7839890718460083), Row(als_item_id=40709, rating=1.7833987474441528), Row(als_item_id=27013, rating=1.774957299232483), Row(als_item_id=14039, rating=1.768775463104248), Row(als_item_id=40625, rating=1.7659776210784912), Row(als_item_id=34451, rating=1.7656426429748535), Row(als_item_id=102800, rating=1.7631016969680786), Row(als_item_id=10119, rating=1.760704517364502), Row(als_item_id=112488, rating=1.7594168186187744), Row(als_item_id=49658, rating=1.7576137781143188), Row(als_item_id=35622, rating=1.7571642398834229), Row(als_item_id=70272, rating=1.7570481300354004), Row(als_item_id=15863, rating=1.7566508054733276), Row(als_item_id=190092, rating=1.7548061609268188), Row(als_item_id=19955, rating=1.7533199787139893), Row(als_item_id=137609, rating=1.7530460357666016), Row(als_item_id=148841, rating=1.7399731874465942), Row(als_item_id=96502, rating=1.7389729022979736), Row(als_item_id=72263, rating=1.7378147840499878), Row(als_item_id=46932, rating=1.7377862930297852), Row(als_item_id=9339, rating=1.7279818058013916), Row(als_item_id=88240, rating=1.7243099212646484), Row(als_item_id=5258, rating=1.7217729091644287), Row(als_item_id=10024, rating=1.7181739807128906), Row(als_item_id=19925, rating=1.7114542722702026), Row(als_item_id=45473, rating=1.7103207111358643), Row(als_item_id=4119, rating=1.7099404335021973), Row(als_item_id=282176, rating=1.7040231227874756), Row(als_item_id=206351, rating=1.7040231227874756), Row(als_item_id=152222, rating=1.7038859128952026), Row(als_item_id=35168, rating=1.7033816576004028), Row(als_item_id=45629, rating=1.7028250694274902), Row(als_item_id=114113, rating=1.7014657258987427), Row(als_item_id=47275, rating=1.6999727487564087), Row(als_item_id=15454, rating=1.6997426748275757), Row(als_item_id=12288, rating=1.6989762783050537), Row(als_item_id=70538, rating=1.696157455444336), Row(als_item_id=4000, rating=1.6956616640090942), Row(als_item_id=65911, rating=1.6940547227859497), Row(als_item_id=12291, rating=1.6923160552978516), Row(als_item_id=113459, rating=1.6875818967819214)]), Row(als_anchor_id=1650, recommendations=[Row(als_item_id=200703, rating=3.577131748199463), Row(als_item_id=55771, rating=2.923074245452881), Row(als_item_id=21641, rating=2.88067364692688), Row(als_item_id=79452, rating=2.8411874771118164), Row(als_item_id=124554, rating=2.8363754749298096), Row(als_item_id=75164, rating=2.82745623588562), Row(als_item_id=758, rating=2.8033454418182373), Row(als_item_id=21880, rating=2.78317928314209), Row(als_item_id=200555, rating=2.77756404876709), Row(als_item_id=143212, rating=2.7527942657470703), Row(als_item_id=1374, rating=2.7514688968658447), Row(als_item_id=70800, rating=2.7377078533172607), Row(als_item_id=15377, rating=2.722442388534546), Row(als_item_id=18921, rating=2.7060937881469727), Row(als_item_id=97699, rating=2.7055552005767822), Row(als_item_id=91848, rating=2.688464641571045), Row(als_item_id=4441, rating=2.6860036849975586), Row(als_item_id=25014, rating=2.681211233139038), Row(als_item_id=59361, rating=2.6483137607574463), Row(als_item_id=23432, rating=2.645585536956787), Row(als_item_id=34526, rating=2.633718967437744), Row(als_item_id=113673, rating=2.628812074661255), Row(als_item_id=90475, rating=2.627586841583252), Row(als_item_id=331646, rating=2.619683027267456), Row(als_item_id=35271, rating=2.6134703159332275), Row(als_item_id=6422, rating=2.6056582927703857), Row(als_item_id=14320, rating=2.5988454818725586), Row(als_item_id=13401, rating=2.587319850921631), Row(als_item_id=59713, rating=2.5816597938537598), Row(als_item_id=588, rating=2.573180675506592), Row(als_item_id=8153, rating=2.5643959045410156), Row(als_item_id=41559, rating=2.560971736907959), Row(als_item_id=104698, rating=2.549332857131958), Row(als_item_id=34984, rating=2.5395667552948), Row(als_item_id=65826, rating=2.527646541595459), Row(als_item_id=114113, rating=2.5262999534606934), Row(als_item_id=14020, rating=2.5160768032073975), Row(als_item_id=104717, rating=2.509876012802124), Row(als_item_id=14310, rating=2.5088391304016113), Row(als_item_id=94701, rating=2.5038094520568848), Row(als_item_id=35091, rating=2.4996681213378906), Row(als_item_id=46908, rating=2.491992950439453), Row(als_item_id=14120, rating=2.4883816242218018), Row(als_item_id=104991, rating=2.4817190170288086), Row(als_item_id=197426, rating=2.481386423110962), Row(als_item_id=16105, rating=2.48106050491333), Row(als_item_id=8881, rating=2.474619150161743), Row(als_item_id=20975, rating=2.4689953327178955), Row(als_item_id=22388, rating=2.468374013900757), Row(als_item_id=33060, rating=2.467656373977661), Row(als_item_id=44419, rating=2.4667396545410156), Row(als_item_id=112550, rating=2.466475486755371), Row(als_item_id=7061, rating=2.4615352153778076), Row(als_item_id=55127, rating=2.4609692096710205), Row(als_item_id=34855, rating=2.453808069229126), Row(als_item_id=46910, rating=2.440966844558716), Row(als_item_id=4435, rating=2.437365770339966), Row(als_item_id=15271, rating=2.430438756942749), Row(als_item_id=101031, rating=2.4137561321258545), Row(als_item_id=43719, rating=2.4117188453674316), Row(als_item_id=61418, rating=2.4009737968444824), Row(als_item_id=128206, rating=2.3910927772521973), Row(als_item_id=63503, rating=2.3834328651428223), Row(als_item_id=41550, rating=2.380756378173828), Row(als_item_id=48874, rating=2.3807430267333984), Row(als_item_id=67133, rating=2.3784968852996826), Row(als_item_id=135018, rating=2.3772950172424316), Row(als_item_id=35097, rating=2.373274326324463), Row(als_item_id=79445, rating=2.3729169368743896), Row(als_item_id=92159, rating=2.372706174850464), Row(als_item_id=67192, rating=2.3725008964538574), Row(als_item_id=76125, rating=2.363231897354126), Row(als_item_id=13672, rating=2.3558743000030518), Row(als_item_id=14332, rating=2.3522093296051025), Row(als_item_id=99518, rating=2.342409133911133), Row(als_item_id=22395, rating=2.337756872177124), Row(als_item_id=13163, rating=2.3262734413146973), Row(als_item_id=7794, rating=2.3239879608154297), Row(als_item_id=4430, rating=2.3167994022369385), Row(als_item_id=49583, rating=2.3162686824798584), Row(als_item_id=207978, rating=2.309337854385376), Row(als_item_id=157073, rating=2.309241771697998), Row(als_item_id=98044, rating=2.3060462474823), Row(als_item_id=104977, rating=2.3057918548583984), Row(als_item_id=13330, rating=2.2992217540740967), Row(als_item_id=93225, rating=2.298471450805664), Row(als_item_id=154139, rating=2.2924728393554688), Row(als_item_id=99351, rating=2.2871503829956055), Row(als_item_id=19550, rating=2.2813186645507812), Row(als_item_id=13693, rating=2.2782201766967773), Row(als_item_id=4315, rating=2.2730352878570557), Row(als_item_id=43249, rating=2.2703490257263184), Row(als_item_id=54009, rating=2.26867413520813), Row(als_item_id=56773, rating=2.267193078994751), Row(als_item_id=13703, rating=2.2644588947296143), Row(als_item_id=10324, rating=2.263230323791504), Row(als_item_id=14314, rating=2.2564644813537598), Row(als_item_id=26386, rating=2.252040386199951), Row(als_item_id=89979, rating=2.2516489028930664), Row(als_item_id=159243, rating=2.249143362045288)]), Row(als_anchor_id=300, recommendations=[Row(als_item_id=13098, rating=2.7677202224731445), Row(als_item_id=46965, rating=2.4393067359924316), Row(als_item_id=147217, rating=2.374119520187378), Row(als_item_id=13069, rating=2.156602144241333), Row(als_item_id=207708, rating=2.1198108196258545), Row(als_item_id=95689, rating=2.0934271812438965), Row(als_item_id=28682, rating=2.0615899562835693), Row(als_item_id=6954, rating=2.0612621307373047), Row(als_item_id=40742, rating=1.9941412210464478), Row(als_item_id=19526, rating=1.9854005575180054), Row(als_item_id=65191, rating=1.94792640209198), Row(als_item_id=86462, rating=1.933440089225769), Row(als_item_id=22616, rating=1.8954519033432007), Row(als_item_id=79408, rating=1.8936076164245605), Row(als_item_id=22414, rating=1.8905901908874512), Row(als_item_id=57694, rating=1.8705967664718628), Row(als_item_id=1634, rating=1.8509310483932495), Row(als_item_id=40757, rating=1.8421695232391357), Row(als_item_id=11789, rating=1.827009677886963), Row(als_item_id=4338, rating=1.8240240812301636), Row(als_item_id=1385, rating=1.8209867477416992), Row(als_item_id=34954, rating=1.8094580173492432), Row(als_item_id=166733, rating=1.8088964223861694), Row(als_item_id=27180, rating=1.8087987899780273), Row(als_item_id=54219, rating=1.8076183795928955), Row(als_item_id=19116, rating=1.7993240356445312), Row(als_item_id=1170, rating=1.7773864269256592), Row(als_item_id=4424, rating=1.767026662826538), Row(als_item_id=304823, rating=1.7663151025772095), Row(als_item_id=17441, rating=1.7457447052001953), Row(als_item_id=27525, rating=1.7452114820480347), Row(als_item_id=9958, rating=1.7442572116851807), Row(als_item_id=6367, rating=1.7369379997253418), Row(als_item_id=67335, rating=1.7100872993469238), Row(als_item_id=9960, rating=1.701790452003479), Row(als_item_id=25760, rating=1.7015732526779175), Row(als_item_id=36993, rating=1.6789438724517822), Row(als_item_id=86861, rating=1.6652075052261353), Row(als_item_id=12905, rating=1.6427996158599854), Row(als_item_id=35184, rating=1.6267746686935425), Row(als_item_id=35029, rating=1.625946044921875), Row(als_item_id=6783, rating=1.6240400075912476), Row(als_item_id=36898, rating=1.6213574409484863), Row(als_item_id=20432, rating=1.6138298511505127), Row(als_item_id=22395, rating=1.6103806495666504), Row(als_item_id=11959, rating=1.6039001941680908), Row(als_item_id=4632, rating=1.603420376777649), Row(als_item_id=9516, rating=1.6033127307891846), Row(als_item_id=69670, rating=1.5978889465332031), Row(als_item_id=734, rating=1.593770980834961), Row(als_item_id=207740, rating=1.5922659635543823), Row(als_item_id=48260, rating=1.5914760828018188), Row(als_item_id=15889, rating=1.589789867401123), Row(als_item_id=15809, rating=1.5809849500656128), Row(als_item_id=25724, rating=1.5709844827651978), Row(als_item_id=7295, rating=1.5706701278686523), Row(als_item_id=21111, rating=1.5646851062774658), Row(als_item_id=8651, rating=1.5646657943725586), Row(als_item_id=13941, rating=1.5610973834991455), Row(als_item_id=40097, rating=1.5596270561218262), Row(als_item_id=27956, rating=1.5560134649276733), Row(als_item_id=4633, rating=1.5558452606201172), Row(als_item_id=5586, rating=1.547688603401184), Row(als_item_id=59107, rating=1.542710781097412), Row(als_item_id=9877, rating=1.5356310606002808), Row(als_item_id=30440, rating=1.5344185829162598), Row(als_item_id=10136, rating=1.5341287851333618), Row(als_item_id=19370, rating=1.5276403427124023), Row(als_item_id=23183, rating=1.5238873958587646), Row(als_item_id=23352, rating=1.520317554473877), Row(als_item_id=97291, rating=1.5186729431152344), Row(als_item_id=108466, rating=1.5185309648513794), Row(als_item_id=13709, rating=1.5126320123672485), Row(als_item_id=40748, rating=1.5023082494735718), Row(als_item_id=25748, rating=1.5020058155059814), Row(als_item_id=13130, rating=1.5015519857406616), Row(als_item_id=211045, rating=1.5015519857406616), Row(als_item_id=2907, rating=1.494524359703064), Row(als_item_id=8145, rating=1.4937635660171509), Row(als_item_id=6102, rating=1.4937618970870972), Row(als_item_id=19080, rating=1.4927676916122437), Row(als_item_id=92529, rating=1.491570234298706), Row(als_item_id=19087, rating=1.4896091222763062), Row(als_item_id=124827, rating=1.4880832433700562), Row(als_item_id=1868, rating=1.4855350255966187), Row(als_item_id=40849, rating=1.485501766204834), Row(als_item_id=86742, rating=1.4843502044677734), Row(als_item_id=14342, rating=1.4820833206176758), Row(als_item_id=13726, rating=1.4791752099990845), Row(als_item_id=14867, rating=1.4786779880523682), Row(als_item_id=15735, rating=1.4760496616363525), Row(als_item_id=4999, rating=1.4757509231567383), Row(als_item_id=41141, rating=1.4721096754074097), Row(als_item_id=1384, rating=1.4710053205490112), Row(als_item_id=47597, rating=1.470283031463623), Row(als_item_id=1622, rating=1.4690051078796387), Row(als_item_id=4369, rating=1.4632923603057861), Row(als_item_id=48171, rating=1.46256685256958), Row(als_item_id=102704, rating=1.4616824388504028), Row(als_item_id=130002, rating=1.461571455001831)]), Row(als_anchor_id=1350, recommendations=[Row(als_item_id=754, rating=2.143249988555908), Row(als_item_id=14207, rating=2.1172258853912354), Row(als_item_id=14852, rating=2.082878589630127), Row(als_item_id=2529, rating=2.040078639984131), Row(als_item_id=43990, rating=1.9594639539718628), Row(als_item_id=5548, rating=1.9100627899169922), Row(als_item_id=20233, rating=1.8303613662719727), Row(als_item_id=40756, rating=1.7846267223358154), Row(als_item_id=5396, rating=1.7836451530456543), Row(als_item_id=15905, rating=1.7639093399047852), Row(als_item_id=34005, rating=1.7426246404647827), Row(als_item_id=39212, rating=1.7396377325057983), Row(als_item_id=6802, rating=1.7277013063430786), Row(als_item_id=19583, rating=1.7189021110534668), Row(als_item_id=29926, rating=1.7072417736053467), Row(als_item_id=14838, rating=1.7002897262573242), Row(als_item_id=21124, rating=1.69810152053833), Row(als_item_id=86201, rating=1.6925902366638184), Row(als_item_id=11808, rating=1.690831184387207), Row(als_item_id=42400, rating=1.6893163919448853), Row(als_item_id=78972, rating=1.6846745014190674), Row(als_item_id=9771, rating=1.681491732597351), Row(als_item_id=36060, rating=1.6768332719802856), Row(als_item_id=69909, rating=1.6764671802520752), Row(als_item_id=44782, rating=1.6703075170516968), Row(als_item_id=1341, rating=1.6650136709213257), Row(als_item_id=37505, rating=1.6635359525680542), Row(als_item_id=906, rating=1.6630102396011353), Row(als_item_id=20383, rating=1.6590591669082642), Row(als_item_id=66093, rating=1.6570130586624146), Row(als_item_id=10206, rating=1.6567784547805786), Row(als_item_id=5982, rating=1.6498550176620483), Row(als_item_id=26301, rating=1.6471809148788452), Row(als_item_id=41373, rating=1.6453065872192383), Row(als_item_id=1312, rating=1.6424225568771362), Row(als_item_id=50338, rating=1.6420388221740723), Row(als_item_id=1387, rating=1.6399058103561401), Row(als_item_id=46932, rating=1.6170234680175781), Row(als_item_id=2119, rating=1.6129114627838135), Row(als_item_id=32275, rating=1.612175703048706), Row(als_item_id=27893, rating=1.6005347967147827), Row(als_item_id=94433, rating=1.5973355770111084), Row(als_item_id=12633, rating=1.5946792364120483), Row(als_item_id=72997, rating=1.591795802116394), Row(als_item_id=45866, rating=1.591520071029663), Row(als_item_id=90463, rating=1.5831422805786133), Row(als_item_id=20883, rating=1.58192777633667), Row(als_item_id=151107, rating=1.580271601676941), Row(als_item_id=3927, rating=1.5781300067901611), Row(als_item_id=4456, rating=1.5763347148895264), Row(als_item_id=69908, rating=1.5705420970916748), Row(als_item_id=18472, rating=1.5686933994293213), Row(als_item_id=93008, rating=1.564597249031067), Row(als_item_id=33178, rating=1.5627511739730835), Row(als_item_id=129995, rating=1.5595498085021973), Row(als_item_id=14290, rating=1.5582696199417114), Row(als_item_id=22460, rating=1.557903528213501), Row(als_item_id=63381, rating=1.5578322410583496), Row(als_item_id=12902, rating=1.555567741394043), Row(als_item_id=83589, rating=1.554459810256958), Row(als_item_id=20232, rating=1.5535930395126343), Row(als_item_id=43409, rating=1.551048755645752), Row(als_item_id=9765, rating=1.5482723712921143), Row(als_item_id=143619, rating=1.5458331108093262), Row(als_item_id=201827, rating=1.544686198234558), Row(als_item_id=18690, rating=1.5396898984909058), Row(als_item_id=9137, rating=1.5327990055084229), Row(als_item_id=12914, rating=1.5325713157653809), Row(als_item_id=3617, rating=1.53189218044281), Row(als_item_id=1345, rating=1.5316463708877563), Row(als_item_id=112245, rating=1.5316240787506104), Row(als_item_id=15803, rating=1.5294896364212036), Row(als_item_id=92787, rating=1.5262222290039062), Row(als_item_id=14690, rating=1.5237276554107666), Row(als_item_id=28465, rating=1.5227980613708496), Row(als_item_id=55474, rating=1.5221972465515137), Row(als_item_id=14194, rating=1.5206507444381714), Row(als_item_id=21133, rating=1.5203654766082764), Row(als_item_id=27641, rating=1.5193612575531006), Row(als_item_id=2401, rating=1.5174057483673096), Row(als_item_id=4607, rating=1.514970064163208), Row(als_item_id=28447, rating=1.5147128105163574), Row(als_item_id=30541, rating=1.5146958827972412), Row(als_item_id=14849, rating=1.5128860473632812), Row(als_item_id=36880, rating=1.512274146080017), Row(als_item_id=10436, rating=1.5116862058639526), Row(als_item_id=1171, rating=1.5094492435455322), Row(als_item_id=25570, rating=1.5084011554718018), Row(als_item_id=70045, rating=1.5082812309265137), Row(als_item_id=48659, rating=1.5073660612106323), Row(als_item_id=9699, rating=1.504537582397461), Row(als_item_id=23034, rating=1.500625729560852), Row(als_item_id=115643, rating=1.4981975555419922), Row(als_item_id=159945, rating=1.4952155351638794), Row(als_item_id=888, rating=1.4945378303527832), Row(als_item_id=12532, rating=1.4938089847564697), Row(als_item_id=24602, rating=1.4915751218795776), Row(als_item_id=21375, rating=1.48936927318573), Row(als_item_id=12909, rating=1.4861540794372559), Row(als_item_id=16289, rating=1.4860705137252808)]), Row(als_anchor_id=860, recommendations=[Row(als_item_id=13098, rating=2.805370330810547), Row(als_item_id=1374, rating=2.6733272075653076), Row(als_item_id=95689, rating=2.644904613494873), Row(als_item_id=113897, rating=2.0769355297088623), Row(als_item_id=44725, rating=2.0258963108062744), Row(als_item_id=19080, rating=1.9859447479248047), Row(als_item_id=144516, rating=1.9113826751708984), Row(als_item_id=758, rating=1.7964050769805908), Row(als_item_id=104944, rating=1.7929232120513916), Row(als_item_id=46965, rating=1.7922394275665283), Row(als_item_id=47272, rating=1.7109973430633545), Row(als_item_id=119738, rating=1.6979753971099854), Row(als_item_id=34360, rating=1.690078854560852), Row(als_item_id=141004, rating=1.6732151508331299), Row(als_item_id=170651, rating=1.6602097749710083), Row(als_item_id=170767, rating=1.6602097749710083), Row(als_item_id=170641, rating=1.6602097749710083), Row(als_item_id=45240, rating=1.653080701828003), Row(als_item_id=3884, rating=1.6491633653640747), Row(als_item_id=67730, rating=1.6469089984893799), Row(als_item_id=170709, rating=1.6469089984893799), Row(als_item_id=161462, rating=1.6469089984893799), Row(als_item_id=40779, rating=1.6451482772827148), Row(als_item_id=29468, rating=1.642843246459961), Row(als_item_id=9182, rating=1.6413428783416748), Row(als_item_id=34550, rating=1.6370079517364502), Row(als_item_id=183946, rating=1.6366673707962036), Row(als_item_id=94789, rating=1.6105417013168335), Row(als_item_id=54219, rating=1.6036614179611206), Row(als_item_id=20432, rating=1.6009962558746338), Row(als_item_id=27513, rating=1.5813411474227905), Row(als_item_id=2496, rating=1.5809873342514038), Row(als_item_id=37550, rating=1.5651288032531738), Row(als_item_id=27559, rating=1.5552325248718262), Row(als_item_id=147217, rating=1.54275643825531), Row(als_item_id=14029, rating=1.5268383026123047), Row(als_item_id=78408, rating=1.5188084840774536), Row(als_item_id=60839, rating=1.5126078128814697), Row(als_item_id=67968, rating=1.506840705871582), Row(als_item_id=154751, rating=1.5062971115112305), Row(als_item_id=22395, rating=1.5000941753387451), Row(als_item_id=48831, rating=1.4884313344955444), Row(als_item_id=170758, rating=1.4812082052230835), Row(als_item_id=55771, rating=1.4798345565795898), Row(als_item_id=250776, rating=1.4787704944610596), Row(als_item_id=250810, rating=1.4787704944610596), Row(als_item_id=59099, rating=1.4787704944610596), Row(als_item_id=48141, rating=1.4787704944610596), Row(als_item_id=51056, rating=1.4745184183120728), Row(als_item_id=93225, rating=1.4730644226074219), Row(als_item_id=25696, rating=1.4706721305847168), Row(als_item_id=22414, rating=1.4630389213562012), Row(als_item_id=590, rating=1.4496443271636963), Row(als_item_id=28020, rating=1.443730354309082), Row(als_item_id=13703, rating=1.4411070346832275), Row(als_item_id=10300, rating=1.437379002571106), Row(als_item_id=14163, rating=1.4364454746246338), Row(als_item_id=20882, rating=1.4359543323516846), Row(als_item_id=71164, rating=1.4347522258758545), Row(als_item_id=75545, rating=1.4218114614486694), Row(als_item_id=66328, rating=1.4077184200286865), Row(als_item_id=79445, rating=1.4066256284713745), Row(als_item_id=32312, rating=1.4037864208221436), Row(als_item_id=53350, rating=1.392137885093689), Row(als_item_id=239319, rating=1.3916922807693481), Row(als_item_id=3890, rating=1.391183614730835), Row(als_item_id=14350, rating=1.3901455402374268), Row(als_item_id=93239, rating=1.389690637588501), Row(als_item_id=17228, rating=1.3857247829437256), Row(als_item_id=93224, rating=1.3827074766159058), Row(als_item_id=40945, rating=1.379418134689331), Row(als_item_id=13163, rating=1.3793516159057617), Row(als_item_id=15137, rating=1.377877950668335), Row(als_item_id=182184, rating=1.3767260313034058), Row(als_item_id=75716, rating=1.3762996196746826), Row(als_item_id=207077, rating=1.3762273788452148), Row(als_item_id=5302, rating=1.3730075359344482), Row(als_item_id=22409, rating=1.3724024295806885), Row(als_item_id=35074, rating=1.3624346256256104), Row(als_item_id=207978, rating=1.3583916425704956), Row(als_item_id=29359, rating=1.355546474456787), Row(als_item_id=4338, rating=1.3539910316467285), Row(als_item_id=7468, rating=1.3539835214614868), Row(als_item_id=106441, rating=1.35154390335083), Row(als_item_id=125229, rating=1.3509498834609985), Row(als_item_id=8204, rating=1.3503329753875732), Row(als_item_id=14314, rating=1.348868489265442), Row(als_item_id=319580, rating=1.3480322360992432), Row(als_item_id=34258, rating=1.3479492664337158), Row(als_item_id=189173, rating=1.3439416885375977), Row(als_item_id=66760, rating=1.3432563543319702), Row(als_item_id=68500, rating=1.3426499366760254), Row(als_item_id=34526, rating=1.3392189741134644), Row(als_item_id=48874, rating=1.3366763591766357), Row(als_item_id=25748, rating=1.3339372873306274), Row(als_item_id=106443, rating=1.3327418565750122), Row(als_item_id=207699, rating=1.3312923908233643), Row(als_item_id=151224, rating=1.3250126838684082), Row(als_item_id=11403, rating=1.3248403072357178), Row(als_item_id=186229, rating=1.317868947982788)])]"
     ]
    }
   ],
   "metadata": {}
  },
  {
   "cell_type": "code",
   "execution_count": null,
   "source": [],
   "outputs": [],
   "metadata": {}
  }
 ],
 "metadata": {
  "kernelspec": {
   "display_name": "Sparkmagic (PySpark)",
   "language": "python",
   "name": "pysparkkernel"
  },
  "language_info": {
   "codemirror_mode": {
    "name": "python",
    "version": 3
   },
   "file_extension": ".py",
   "mimetype": "text/x-python",
   "name": "pyspark",
   "pygments_lexer": "python3"
  }
 },
 "nbformat": 4,
 "nbformat_minor": 4
}